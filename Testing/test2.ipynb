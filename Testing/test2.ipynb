{
 "cells": [
  {
   "cell_type": "code",
   "execution_count": 1,
   "metadata": {},
   "outputs": [
    {
     "data": {
      "image/png": "[encoded data removed]",
      "text/plain": [
       "<Figure size 640x480 with 1 Axes>"
      ]
     },
     "metadata": {},
     "output_type": "display_data"
    }
   ],
   "source": [
    "import numpy as np\n",
    "import matplotlib.pyplot as plt\n",
    "\n",
    "# Simulation parameters\n",
    "Nx, Ny = 100, 100  # Grid size\n",
    "dx = dy = 1.0      # Grid spacing\n",
    "dt = 0.01          # Time step\n",
    "T = 2.0            # Total simulation time\n",
    "v = 3.0            # Wave velocity\n",
    "\n",
    "# Initialize wave fields\n",
    "u = np.zeros((Nx, Ny))\n",
    "u_old = np.zeros((Nx, Ny))\n",
    "u_new = np.zeros((Nx, Ny))\n",
    "\n",
    "# Initial source (epicenter)\n",
    "source_x, source_y = Nx//2, Ny//2\n",
    "u[source_x, source_y] = 1.0  # Initial pulse\n",
    "\n",
    "# Time-stepping loop\n",
    "frames = []\n",
    "for t in np.arange(0, T, dt):\n",
    "    # Compute wave equation update\n",
    "    for i in range(1, Nx-1):\n",
    "        for j in range(1, Ny-1):\n",
    "            u_new[i, j] = (2 * u[i, j] - u_old[i, j] + \n",
    "                           (v**2 * dt**2 / dx**2) * \n",
    "                           (u[i+1, j] + u[i-1, j] + u[i, j+1] + u[i, j-1] - 4*u[i, j]))\n",
    "\n",
    "    # Swap variables\n",
    "    u_old, u, u_new = u, u_new, u_old\n",
    "\n",
    "    # Store frames for visualization\n",
    "    frames.append(np.copy(u))\n",
    "\n",
    "# Animate results\n",
    "import matplotlib.animation as animation\n",
    "\n",
    "fig, ax = plt.subplots()\n",
    "cax = ax.imshow(frames[0], cmap='seismic', vmin=-1, vmax=1)\n",
    "\n",
    "def update(frame):\n",
    "    cax.set_data(frame)\n",
    "\n",
    "ani = animation.FuncAnimation(fig, update, frames=frames, interval=50)\n",
    "plt.show()"
   ]
  }
 ],
 "metadata": {
  "kernelspec": {
   "display_name": "Python 3",
   "language": "python",
   "name": "python3"
  },
  "language_info": {
   "codemirror_mode": {
    "name": "ipython",
    "version": 3
   },
   "file_extension": ".py",
   "mimetype": "text/x-python",
   "name": "python",
   "nbconvert_exporter": "python",
   "pygments_lexer": "ipython3",
   "version": "3.11.5"
  }
 },
 "nbformat": 4,
 "nbformat_minor": 2
}
