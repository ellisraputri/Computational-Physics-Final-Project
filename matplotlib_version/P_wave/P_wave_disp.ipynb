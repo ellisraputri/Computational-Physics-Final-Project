{
 "cells": [
  {
   "cell_type": "markdown",
   "id": "68fb0bbc",
   "metadata": {},
   "source": [
    "# P-Wave Displacement Simulation\n",
    "\n",
    "P-Wave or Primary Wave or Pressure Wave is one of the two main seismic waves. It can travel around gases, solids, and fluids. It moves back and forth (compressional). It has higher velocity than S-wave, thereby it is the first wave that is recorded in the seismograph when earthquake occurs.  "
   ]
  },
  {
   "cell_type": "code",
   "execution_count": 1,
   "id": "755ce415",
   "metadata": {},
   "outputs": [],
   "source": [
    "import numpy as np\n",
    "import matplotlib.pyplot as plt\n",
    "from matplotlib.animation import FuncAnimation\n",
    "import matplotlib.animation as animation"
   ]
  },
  {
   "cell_type": "markdown",
   "id": "93ade276",
   "metadata": {},
   "source": [
    "### Elastic Wave Equation (but for P-Wave Only)\n",
    "$$\n",
    "\\rho \\frac{\\partial^2 \\textbf{u}}{\\partial t^2} = K \\nabla (\\nabla \\cdot \\textbf{u})\n",
    "$$\n",
    "\n",
    "Where:\n",
    "- $K = \\lambda + \\frac{2}{3} \\mu $ is the Bulk Modulus in $Pa$. $\\lambda$ and $\\mu$ are Lamé parameters,\n",
    "- $\\textbf{u}$ is displacement ($u_x, u_y$),\n",
    "- $\\nabla (\\nabla \\cdot \\textbf{u})$ is the gradient of the divergence"
   ]
  },
  {
   "cell_type": "code",
   "execution_count": 2,
   "id": "98f4e1c0",
   "metadata": {},
   "outputs": [],
   "source": [
    "# Simulation Area Parameter\n",
    "NX, NY = 200, 200  #Grid size\n",
    "XMIN, XMAX = 0.0, 2000.0  \n",
    "YMIN, YMAX = 0.0, 2000.0  \n",
    "\n",
    "# Animation Plot Parameter\n",
    "PLOT_EVERY = 5  "
   ]
  },
  {
   "cell_type": "code",
   "execution_count": 3,
   "id": "464d9983",
   "metadata": {},
   "outputs": [],
   "source": [
    "# For Laplacian Approximation using FDM\n",
    "DX = (XMAX - XMIN) / NX  # Spatial step (m)\n",
    "DT = 0.001  # Time step (s)\n",
    "NT = 900  \n",
    "\n",
    "# Wave speed model (m/s) - Simple one layer model\n",
    "VEL = np.ones((NX, NY)) * 3000.0  # Base velocity (rock)\n",
    "\n",
    "# Wave speed model (m/s) - Simple two-layer model\n",
    "# VEL = np.ones((NX, NY)) * 3000.0  # Base velocity (water)\n",
    "# VEL[NX//2:, :] = 3000.0  # Higher velocity layer (rock)\n",
    "\n",
    "# Density model (kg/m³)\n",
    "# For real world Earth structure, this is not supposed to be \n",
    "# constant because the Earth is not homogeneous or \n",
    "# anisotropic (properties vary based on direction)\n",
    "RHO = np.ones((NX, NY)) * 1000.0"
   ]
  },
  {
   "cell_type": "code",
   "execution_count": 4,
   "id": "71d312b4",
   "metadata": {},
   "outputs": [],
   "source": [
    "# Bulk modulus (Pa)\n",
    "K = np.ones((NX, NY)) * 5e9  # Higher K → faster P-wave\n",
    "\n",
    "# Displacement fields\n",
    "ux = np.zeros((NX, NY))\n",
    "uy = np.zeros((NX, NY))\n",
    "ux_prev = np.zeros((NX, NY))\n",
    "uy_prev = np.zeros((NX, NY))"
   ]
  },
  {
   "cell_type": "code",
   "execution_count": 5,
   "id": "dde06b93",
   "metadata": {},
   "outputs": [],
   "source": [
    "# Damping or Absorbing Boundary\n",
    "ABL_WIDTH = 20 #grid point on simulation area's edge for absorbing\n",
    "damping = np.ones((NX, NY)) \n",
    "\n",
    "# pressure on top and bottom get scaled down from 1.0 to 0.9\n",
    "damping[:ABL_WIDTH, :] = np.linspace(0.9, 1.0, ABL_WIDTH)[:, np.newaxis]\n",
    "damping[-ABL_WIDTH:, :] = np.linspace(1.0, 0.9, ABL_WIDTH)[:, np.newaxis]\n",
    "\n",
    "# preserve the strongest damping when overlapping in left and right edge\n",
    "damping[:, :ABL_WIDTH] = np.minimum(damping[:, :ABL_WIDTH], np.linspace(0.9, 1.0, ABL_WIDTH))\n",
    "damping[:, -ABL_WIDTH:] = np.minimum(damping[:, -ABL_WIDTH:], np.linspace(1.0, 0.9, ABL_WIDTH))"
   ]
  },
  {
   "cell_type": "markdown",
   "id": "0b5892b7",
   "metadata": {},
   "source": [
    "### Ricker Wavelet\n",
    "Ricker wavelet is the second derivative of a Gaussian function. It can mimic real seismic source, so we can conduct our numerical simulation based on it. The standard formula in the time domain is\n",
    "\n",
    "$$\n",
    "    A(t) = \\left( 1-2\\pi^2 f_0^2 t^2 \\right) e^{- \\pi^2 f_0^2 t^2}\n",
    "$$\n",
    "where\n",
    "- $f_0$ is the peak frequency in Hertz"
   ]
  },
  {
   "cell_type": "code",
   "execution_count": 6,
   "id": "2cd6813a",
   "metadata": {},
   "outputs": [],
   "source": [
    "# Seismic source (Ricker wavelet at center)\n",
    "def ricker_wavelet(t, f0=20.0):\n",
    "    return (1.0 - 2.0*(np.pi*f0*t)**2) * np.exp(-(np.pi*f0*t)**2)\n",
    "\n",
    "source_x, source_y = NX//4, NY//2  # Source position\n",
    "source_times = np.arange(NT) * DT # Time values\n",
    "\n",
    "# Pressure amplitude\n",
    "# The peak will occur on t which is source_times-0.1 or in\n",
    "# 0.1 seconds instead right at t=0, so that it is smoother\n",
    "source_amp = ricker_wavelet(source_times - 0.1, f0=20.0) * 1e6  "
   ]
  },
  {
   "cell_type": "markdown",
   "id": "b1bbaa6c",
   "metadata": {},
   "source": [
    "### Discretization\n",
    "To get the displacement update, we have to first discretize the $ \\frac{\\partial^2 \\textbf{u}}{\\partial t^2} $. Using central differences FDM, we can approximate the value of $\\frac{\\partial^2 \\textbf{u}}{\\partial t^2}$ as below.\n",
    "$$\n",
    "\\frac{\\partial^2 \\textbf{u}}{\\partial t^2} \\approx \\frac{\\textbf{u}^{n+1} - 2\\textbf{u}^{n} + \\textbf{u}^{n-1}}{\\Delta t^2}\n",
    "$$\n",
    "\n",
    "Then, we can rewrite the previous elastic equation as below\n",
    "$$\n",
    "\\begin{align*}\n",
    "\\frac{\\partial^2 \\textbf{u}}{\\partial t^2} &= \\frac{K \\nabla (\\nabla \\cdot \\textbf{u})}{\\rho} \\\\\n",
    "\\frac{\\textbf{u}^{n+1} - 2\\textbf{u}^{n} + \\textbf{u}^{n-1}}{\\Delta t^2} &= \\frac{K \\nabla (\\nabla \\cdot \\textbf{u})}{\\rho} \\\\\n",
    "\\textbf{u}^{n+1} - 2\\textbf{u}^{n} + \\textbf{u}^{n-1} &= \\frac{\\Delta t^2}{\\rho} \\cdot {K \\nabla (\\nabla \\cdot \\textbf{u})} \\\\\n",
    "\\textbf{u}^{n+1}  &= 2\\textbf{u}^{n} - \\textbf{u}^{n-1}+ \\frac{\\Delta t^2}{\\rho} \\cdot {K \\nabla (\\nabla \\cdot \\textbf{u})} \\\\\n",
    "\\end{align*}\n",
    "$$"
   ]
  },
  {
   "cell_type": "markdown",
   "id": "e9ed415b",
   "metadata": {},
   "source": [
    "#### $ \\nabla (\\nabla \\cdot \\textbf{u})$ Calculation\n",
    "The equation for $\\nabla \\cdot \\textbf{u}$ is\n",
    "$$\n",
    "\\nabla \\cdot \\textbf{u}  = \\frac{\\partial u_x}{\\partial x} + \\frac{\\partial u_y}{\\partial y}\n",
    "$$\n",
    "\n",
    "We can use central differences to calculate $\\frac{\\partial u_x}{\\partial x}$ and $\\frac{\\partial u_y}{\\partial y}$. \n",
    "$$\n",
    "\\frac{\\partial u_x}{\\partial x} \\approx \\frac{u_x(i+1, j) - u_x(i-1,j)}{2 \\Delta x}\\\\\n",
    "\\frac{\\partial u_y}{\\partial y} \\approx \\frac{u_y(i+1, j) - u_y(i-1,j)}{2 \\Delta x}\n",
    "$$\n",
    "\n",
    "Then, we can calculate $ \\nabla (\\nabla \\cdot \\textbf{u})$ as below\n",
    "$$\n",
    "\\nabla (\\nabla \\cdot \\textbf{u}) = \\left[\\frac{\\frac{\\partial}{\\partial x} (\\nabla \\cdot \\textbf{u})}{\\frac{\\partial}{\\partial y} (\\nabla \\cdot \\textbf{u})}\\right]\n",
    "$$"
   ]
  },
  {
   "cell_type": "markdown",
   "id": "197542ee",
   "metadata": {},
   "source": [
    "#### Elastic Wave "
   ]
  },
  {
   "cell_type": "code",
   "execution_count": 7,
   "id": "f7057904",
   "metadata": {},
   "outputs": [],
   "source": [
    "def update_p_wave_only(n):\n",
    "    global ux, uy, ux_prev, uy_prev\n",
    "\n",
    "    if n < len(source_amp):\n",
    "        ux[source_x, source_y] += source_amp[n] * DT**2 / RHO[source_x, source_y]\n",
    "\n",
    "    # ∇·u\n",
    "    div_u = np.zeros((NX, NY))\n",
    "    div_u[1:-1, 1:-1] = (\n",
    "        (ux[2:, 1:-1] - ux[:-2, 1:-1]) / (2 * DX) + (\n",
    "        (uy[1:-1, 2:] - uy[1:-1, :-2]) / (2 * DX)\n",
    "    ))\n",
    "\n",
    "    # ∇(∇·u)\n",
    "    grad_div_x = np.zeros((NX, NY))\n",
    "    grad_div_y = np.zeros((NX, NY))\n",
    "    grad_div_x[1:-1, 1:-1] = (div_u[2:, 1:-1] - div_u[:-2, 1:-1]) / (2 * DX)\n",
    "    grad_div_y[1:-1, 1:-1] = (div_u[1:-1, 2:] - div_u[1:-1, :-2]) / (2 * DX)\n",
    "\n",
    "    ux_new = (\n",
    "        2 * ux - ux_prev + (DT**2 / RHO) * K * grad_div_x\n",
    "    )\n",
    "    uy_new = (\n",
    "        2 * uy - uy_prev + (DT**2 / RHO) * K * grad_div_y\n",
    "    )\n",
    "\n",
    "    # Apply damping\n",
    "    ux_new *= damping\n",
    "    uy_new *= damping\n",
    "\n",
    "    # Update fields\n",
    "    ux_prev = ux.copy()\n",
    "    uy_prev = uy.copy()\n",
    "    ux = ux_new.copy()\n",
    "    uy = uy_new.copy()\n"
   ]
  },
  {
   "cell_type": "code",
   "execution_count": 8,
   "id": "dfed2593",
   "metadata": {},
   "outputs": [
    {
     "data": {
      "image/png": "[encoded data removed]",
      "text/plain": [
       "<Figure size 1000x800 with 2 Axes>"
      ]
     },
     "metadata": {},
     "output_type": "display_data"
    }
   ],
   "source": [
    "# Create figure\n",
    "fig, ax = plt.subplots(figsize=(10, 8))\n",
    "img = ax.imshow(np.sqrt(ux**2 + uy**2).T, cmap='seismic', vmin=-1e-5, vmax=1e-5)\n",
    "\n",
    "plt.colorbar(img, label='Displacement (m)')\n",
    "ax.set_title(\"P Wave Displacement Simulation\")\n",
    "ax.set_xlabel(\"Distance (m)\")\n",
    "ax.set_ylabel(\"Depth (m)\")\n",
    "plt.show()"
   ]
  },
  {
   "cell_type": "code",
   "execution_count": 9,
   "id": "4330cbb1",
   "metadata": {},
   "outputs": [],
   "source": [
    "def update(frame):\n",
    "    \"\"\"Update function for animation\"\"\"\n",
    "    for _ in range(PLOT_EVERY):\n",
    "        update_p_wave_only(frame * PLOT_EVERY + _)\n",
    "    \n",
    "    img.set_array(np.sqrt(ux**2 + uy**2))\n",
    "    return [img]\n",
    "\n",
    "ani = FuncAnimation(fig, update, frames=NT//PLOT_EVERY, interval=50, blit=True)"
   ]
  },
  {
   "cell_type": "code",
   "execution_count": 10,
   "id": "d18b21cd",
   "metadata": {},
   "outputs": [],
   "source": [
    "ffmpeg_writer = animation.FFMpegWriter(fps=20)\n",
    "ani.save('test_disp_wave1.mp4', writer=ffmpeg_writer)"
   ]
  }
 ],
 "metadata": {
  "kernelspec": {
   "display_name": "Python 3",
   "language": "python",
   "name": "python3"
  },
  "language_info": {
   "codemirror_mode": {
    "name": "ipython",
    "version": 3
   },
   "file_extension": ".py",
   "mimetype": "text/x-python",
   "name": "python",
   "nbconvert_exporter": "python",
   "pygments_lexer": "ipython3",
   "version": "3.11.5"
  }
 },
 "nbformat": 4,
 "nbformat_minor": 5
}
