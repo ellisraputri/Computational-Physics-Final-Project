{
 "cells": [
  {
   "cell_type": "markdown",
   "id": "68fb0bbc",
   "metadata": {},
   "source": [
    "# P-Wave Pressure Simulation\n",
    "\n",
    "P-Wave or Primary Wave or Pressure Wave is one of the two main seismic waves. It can travel around gases, solids, and fluids. It moves back and forth (compressional). It has higher velocity than S-wave, thereby it is the first wave that is recorded in the seismograph when earthquake occurs.  "
   ]
  },
  {
   "cell_type": "code",
   "execution_count": 18,
   "id": "755ce415",
   "metadata": {},
   "outputs": [],
   "source": [
    "import numpy as np\n",
    "import matplotlib.pyplot as plt\n",
    "from matplotlib.animation import FuncAnimation\n",
    "import matplotlib.animation as animation"
   ]
  },
  {
   "cell_type": "markdown",
   "id": "93ade276",
   "metadata": {},
   "source": [
    "### Acoustic Wave Equation\n",
    "$$\n",
    "\\frac{1}{c^2(x,y)}\\frac{\\partial^2p(x,y,t)}{\\partial t^2} = \\nabla \\cdot \\left( \\frac{1}{\\rho(x,y)} \\nabla p(x,y,t) \\right) + S(x,y,t)\n",
    "$$\n",
    "\n",
    "Where:\n",
    "- $p(x,y,t)$ is the acoustic pressure field at position $(x, y)$ and time $t$ in $Pa$,\n",
    "- $c(x,y)$ is the local wave speed or velocity in $m/s$,\n",
    "- $\\rho(x,y)$ is the density in $kg/m^3$.\n",
    "- $S(x,y,t)$ is the source of the seismic wave (Ricker wavelet) "
   ]
  },
  {
   "cell_type": "code",
   "execution_count": 19,
   "id": "98f4e1c0",
   "metadata": {},
   "outputs": [],
   "source": [
    "# Simulation Area Parameter\n",
    "NX, NY = 200, 200  #Grid size\n",
    "XMIN, XMAX = 0.0, 2000.0  \n",
    "YMIN, YMAX = 0.0, 2000.0  \n",
    "\n",
    "# Animation Plot Parameter\n",
    "PLOT_EVERY = 5  "
   ]
  },
  {
   "cell_type": "code",
   "execution_count": 20,
   "id": "464d9983",
   "metadata": {},
   "outputs": [],
   "source": [
    "# For Laplacian Approximation using FDM\n",
    "DX = (XMAX - XMIN) / NX  # Spatial step (m)\n",
    "DT = 0.001  # Time step (s)\n",
    "NT = 900  \n",
    "\n",
    "# Wave speed model (m/s) - Simple one layer model\n",
    "VEL = np.ones((NX, NY)) * 3000.0  # Base velocity (rock)\n",
    "\n",
    "# Wave speed model (m/s) - Simple two-layer model\n",
    "# VEL = np.ones((NX, NY)) * 3000.0  # Base velocity (water)\n",
    "# VEL[NX//2:, :] = 3000.0  # Higher velocity layer (rock)\n",
    "\n",
    "# Density model (kg/m³)\n",
    "# For real world Earth structure, this is not supposed to be \n",
    "# constant because the Earth is not homogeneous or \n",
    "# anisotropic (properties vary based on direction)\n",
    "RHO = np.ones((NX, NY)) * 1000.0"
   ]
  },
  {
   "cell_type": "code",
   "execution_count": 21,
   "id": "71d312b4",
   "metadata": {},
   "outputs": [],
   "source": [
    "phi = np.zeros((NX, NY))  # Pressure field (current)\n",
    "psi = np.zeros((NX, NY))  # Pressure field (previous)\n",
    "vx = np.zeros((NX, NY))  # x-component of particle velocity\n",
    "vy = np.zeros((NX, NY))  # y-component of particle velocity"
   ]
  },
  {
   "cell_type": "code",
   "execution_count": 22,
   "id": "dde06b93",
   "metadata": {},
   "outputs": [],
   "source": [
    "# Damping or Absorbing Boundary\n",
    "ABL_WIDTH = 20 #grid point on simulation area's edge for absorbing\n",
    "damping = np.ones((NX, NY)) \n",
    "\n",
    "# pressure on top and bottom get scaled down from 1.0 to 0.9\n",
    "damping[:ABL_WIDTH, :] = np.linspace(0.9, 1.0, ABL_WIDTH)[:, np.newaxis]\n",
    "damping[-ABL_WIDTH:, :] = np.linspace(1.0, 0.9, ABL_WIDTH)[:, np.newaxis]\n",
    "\n",
    "# preserve the strongest damping when overlapping in left and right edge\n",
    "damping[:, :ABL_WIDTH] = np.minimum(damping[:, :ABL_WIDTH], np.linspace(0.9, 1.0, ABL_WIDTH))\n",
    "damping[:, -ABL_WIDTH:] = np.minimum(damping[:, -ABL_WIDTH:], np.linspace(1.0, 0.9, ABL_WIDTH))"
   ]
  },
  {
   "cell_type": "markdown",
   "id": "0b5892b7",
   "metadata": {},
   "source": [
    "### Ricker Wavelet\n",
    "Ricker wavelet is the second derivative of a Gaussian function. It can mimic real seismic source, so we can conduct our numerical simulation based on it. The standard formula in the time domain is\n",
    "\n",
    "$$\n",
    "    A(t) = \\left( 1-2\\pi^2 f_0^2 t^2 \\right) e^{- \\pi^2 f_0^2 t^2}\n",
    "$$\n",
    "where\n",
    "- $f_0$ is the peak frequency in Hertz"
   ]
  },
  {
   "cell_type": "code",
   "execution_count": 23,
   "id": "2cd6813a",
   "metadata": {},
   "outputs": [],
   "source": [
    "# Seismic source (Ricker wavelet at center)\n",
    "def ricker_wavelet(t, f0=20.0):\n",
    "    return (1.0 - 2.0*(np.pi*f0*t)**2) * np.exp(-(np.pi*f0*t)**2)\n",
    "\n",
    "source_x, source_y = NX//4, NY//2  # Source position\n",
    "source_times = np.arange(NT) * DT # Time values\n",
    "\n",
    "# Pressure amplitude\n",
    "# The peak will occur on t which is source_times-0.1 or in\n",
    "# 0.1 seconds instead right at t=0, so that it is smoother\n",
    "source_amp = ricker_wavelet(source_times - 0.1, f0=20.0) * 1e6  "
   ]
  },
  {
   "cell_type": "markdown",
   "id": "b1bbaa6c",
   "metadata": {},
   "source": [
    "### Discretization\n",
    "We write down the second order wave equation into a system of first order PDEs by using $v_x, v_y$, and $p$.\n",
    "\n",
    "$$\n",
    "\\frac{\\partial v_x}{\\partial t} = -\\frac{1}{\\rho} \\frac{\\partial p}{\\partial x} \\\\ \n",
    "\\frac{\\partial v_y}{\\partial t} = -\\frac{1}{\\rho} \\frac{\\partial p}{\\partial x} \\\\ \n",
    "\\frac{\\partial p}{\\partial t} = - \\rho c^2 \\left( \\frac{\\partial v_x}{\\partial x} + \\frac{\\partial v_y}{\\partial y} \\right)\n",
    "$$\n",
    "\n",
    "For velocity, the approximation is\n",
    "$$\n",
    "    v_x^{n+1} = v_x^{n} - \\frac{\\Delta t}{\\rho} \\cdot \\frac{\\partial p}{\\partial x}\n",
    "$$\\\\\n",
    "Using central difference FDM, $\\frac{\\partial p}{\\partial x} = \\frac{p_{i+1,j} - p_{i-1,j}}{2 \\Delta x}$ "
   ]
  },
  {
   "cell_type": "markdown",
   "id": "224dcf93",
   "metadata": {},
   "source": [
    "Meanwhile, for pressure, based on the acoustic wave equation (rewritten below)\n",
    "$$\n",
    "\\frac{1}{c^2(x,y)}\\frac{\\partial^2p(x,y,t)}{\\partial t^2} = \\nabla \\cdot \\left( \\frac{1}{\\rho(x,y)} \\nabla p(x,y,t) \\right) + S(x,y,t)\n",
    "$$\n",
    "\n",
    "We can simplify it to \n",
    "$$\n",
    "\\frac{\\partial^2 p}{\\partial t^2} = c^2 \\nabla^2 p \n",
    "$$\n",
    "We do not use $\\rho$ here because we assume that it is constant for simplicity. (See Last Markdown for more info).\n",
    "\n",
    "The discretization of the second order derivation using central differences (leapfrog scheme):\n",
    "$$\n",
    "\\frac{\\partial^2 p}{\\partial t^2} \\approx \\frac{p_{i,j}^{n+1} - 2p_{i,j}^{n} + p_{i,j}^{n-1}}{\\Delta t^2}\n",
    "$$\n",
    "\n",
    "The discretization of the Laplacian using central differences:\n",
    "$$\n",
    "\\nabla^2 p \\approx \\frac{p_{i+1,j}+p_{i-1,j} + p_{i,j+1} + p_{i,j-1} - 4p_{i,j}}{\\Delta x^2}\n",
    "$$\n",
    "\n",
    "Substituting it in the simplified wave equation, we got \n",
    "$$\n",
    "\\frac{p_{i,j}^{n+1} - 2p_{i,j}^{n} + p_{i,j}^{n-1}}{\\Delta t^2} = c^2 \\cdot \\frac{p_{i+1,j}^n+p_{i-1,j}^n + p_{i,j+1}^n + p_{i,j-1}^n - 4p_{i,j}^n}{\\Delta x^2} \n",
    "$$\n",
    "\n",
    "Next, we can get the $p_{i,j}^{n+1}$\n",
    "$$\n",
    "p_{i,j}^{n+1} = 2p_{i,j}^{n} - p_{i,j}^{n-1} + \\left( \\frac{c^2 \\Delta t^2}{\\Delta x^2}\n",
    "    \\right) \\left( p_{i+1,j}^n+p_{i-1,j}^n + p_{i,j+1}^n + p_{i,j-1}^n - 4p_{i,j}^n \\right)\n",
    "$$"
   ]
  },
  {
   "cell_type": "code",
   "execution_count": 24,
   "id": "f7057904",
   "metadata": {},
   "outputs": [],
   "source": [
    "def update_wave(n):\n",
    "    \"\"\"Update the wave field for one time step\"\"\"\n",
    "    global phi, psi, vx, vy\n",
    "    \n",
    "    # Add pressure injection/amplitude (S) to pressure field\n",
    "    if n < len(source_amp):\n",
    "        phi[source_x, source_y] += source_amp[n]\n",
    "    \n",
    "    # Update particle velocities (vx, vy)\n",
    "    # vx[1:-1, 1:-1] -= (DT/RHO[1:-1, 1:-1]) * (phi[2:, 1:-1] - phi[:-2, 1:-1]) / (2*DX)\n",
    "    # vy[1:-1, 1:-1] -= (DT/RHO[1:-1, 1:-1]) * (phi[1:-1, 2:] - phi[1:-1, :-2]) / (2*DX)\n",
    "    \n",
    "    # Update pressure field based on the final p_{i,j}^{n+1} formula\n",
    "    phi_new = phi.copy()\n",
    "    phi_new[1:-1, 1:-1] = (\n",
    "        2*phi[1:-1, 1:-1] - psi[1:-1, 1:-1] +\n",
    "        (VEL[1:-1, 1:-1]**2 * DT**2 / DX**2) * (\n",
    "            \n",
    "            phi[2:, 1:-1] + phi[:-2, 1:-1] +\n",
    "            phi[1:-1, 2:] + phi[1:-1, :-2] -\n",
    "            4*phi[1:-1, 1:-1]\n",
    "        )\n",
    "    )\n",
    "    # apply damping\n",
    "    phi_new *= damping\n",
    "\n",
    "    # Update fields\n",
    "    psi = phi.copy()\n",
    "    phi = phi_new.copy()"
   ]
  },
  {
   "cell_type": "code",
   "execution_count": null,
   "id": "dfed2593",
   "metadata": {},
   "outputs": [
    {
     "data": {
      "image/png": "[encoded data removed]",
      "text/plain": [
       "<Figure size 1000x800 with 2 Axes>"
      ]
     },
     "metadata": {},
     "output_type": "display_data"
    }
   ],
   "source": [
    "# Create figure\n",
    "fig, ax = plt.subplots(figsize=(10, 8))\n",
    "img = ax.imshow(phi.T, extent=[XMIN, XMAX, YMAX, YMIN], \n",
    "                cmap='seismic', vmin=-1e4, vmax=1e4)\n",
    "plt.colorbar(img, label='Pressure (Pa)')\n",
    "ax.set_title(\"2D Seismic Wave Propagation\")\n",
    "ax.set_xlabel(\"Distance (m)\")\n",
    "ax.set_ylabel(\"Depth (m)\")\n",
    "\n",
    "plt.show()"
   ]
  },
  {
   "cell_type": "code",
   "execution_count": null,
   "id": "4330cbb1",
   "metadata": {},
   "outputs": [],
   "source": [
    "def update(frame):\n",
    "    \"\"\"Update function for animation\"\"\"\n",
    "    for _ in range(PLOT_EVERY):\n",
    "        update_wave(frame * PLOT_EVERY + _)\n",
    "    \n",
    "    img.set_array(phi.T)\n",
    "    return [img]\n",
    "\n",
    "ani = FuncAnimation(fig, update, frames=NT//PLOT_EVERY, interval=50, blit=True)"
   ]
  },
  {
   "cell_type": "code",
   "execution_count": 27,
   "id": "d18b21cd",
   "metadata": {},
   "outputs": [],
   "source": [
    "ffmpeg_writer = animation.FFMpegWriter(fps=20)\n",
    "ani.save('test_p_wave1.mp4', writer=ffmpeg_writer)"
   ]
  },
  {
   "cell_type": "markdown",
   "id": "133cc485",
   "metadata": {},
   "source": [
    "##### NOTE\n",
    "For waves in a solid, the speed can be determined by this formula:\n",
    "$$\n",
    "c = \\sqrt{ \\frac{Y}{\\rho} }\n",
    "$$\n",
    "\n",
    "where\n",
    "- $Y$ is the Young's modulus or stiffness in $N/m^2$.\n",
    "- $\\rho$ is the density in $kg/m^3$.\n",
    "\n",
    "For fluid, the formula is also the same, but it use $B$ (Bulk Modulus) instead. \n",
    "\n",
    "The reason why $\\rho$ is not counted in the simulation is because $\\rho$ is already implicitly included in $c^2$ as shown in the above formula. \n",
    "\n",
    "If we want to include $\\rho$, then we have to compute $\\nabla \\left(\\frac{1}{\\rho} \\nabla p \\right)$ as the equation below.\n",
    "$$\n",
    "    \\frac{\\partial}{\\partial x} \\left( \\frac{1}{\\rho} \\frac{\\partial p}{\\partial x} \\right) + \\frac{\\partial}{\\partial y} \\left( \\frac{1}{\\rho} \\frac{\\partial p}{\\partial y} \\right)\n",
    "$$\n",
    "This involves more partial derivatives and will increase our computation time significantly."
   ]
  }
 ],
 "metadata": {
  "kernelspec": {
   "display_name": "Python 3",
   "language": "python",
   "name": "python3"
  },
  "language_info": {
   "codemirror_mode": {
    "name": "ipython",
    "version": 3
   },
   "file_extension": ".py",
   "mimetype": "text/x-python",
   "name": "python",
   "nbconvert_exporter": "python",
   "pygments_lexer": "ipython3",
   "version": "3.11.5"
  }
 },
 "nbformat": 4,
 "nbformat_minor": 5
}
