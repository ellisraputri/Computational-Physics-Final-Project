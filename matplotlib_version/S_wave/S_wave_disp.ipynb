{
 "cells": [
  {
   "cell_type": "markdown",
   "id": "68fb0bbc",
   "metadata": {},
   "source": [
    "# S-Wave Simulation\n",
    "\n",
    "S-Wave or Secondary Wave or Shear Wave is the second seismic waves that arrived in the seismograph when earthquake happens. S-waves are transverse waves (direction of particle movement on S-wave is perpendicular to the direction of wave propagation). S-wave cannot traverse through liquids and gases. "
   ]
  },
  {
   "cell_type": "code",
   "execution_count": 40,
   "id": "755ce415",
   "metadata": {},
   "outputs": [],
   "source": [
    "import numpy as np\n",
    "import math\n",
    "import matplotlib.pyplot as plt\n",
    "from matplotlib.animation import FuncAnimation\n",
    "import matplotlib.animation as animation"
   ]
  },
  {
   "cell_type": "markdown",
   "id": "93ade276",
   "metadata": {},
   "source": [
    "### Elastic Wave Equation\n",
    "$$\n",
    "\\rho \\frac{\\partial^2 u_x}{\\partial t^2} = \\frac{\\partial^2 \\tau_{xy}}{\\partial y} + S \\\\\n",
    "\\rho \\frac{\\partial^2 u_y}{\\partial t^2} = \\frac{\\partial^2 \\tau_{xy}}{\\partial x} +S\n",
    "$$\n",
    "\n",
    "Where:\n",
    "- $\\rho$ is the density\n",
    "- $\\tau_{xy}$ is the shear stress\n",
    "- $u_x, u_y$ is the horizontal and vertical displacements\n",
    "- $S$ is the vertical force or source term (Ricker Wavelet)"
   ]
  },
  {
   "cell_type": "code",
   "execution_count": 41,
   "id": "98f4e1c0",
   "metadata": {},
   "outputs": [],
   "source": [
    "# Simulation Area Parameter\n",
    "NX, NY = 200, 200  #Grid size\n",
    "XMIN, XMAX = 0.0, 2000.0  \n",
    "YMIN, YMAX = 0.0, 2000.0  \n",
    "\n",
    "# Animation Plot Parameter\n",
    "PLOT_EVERY = 5  "
   ]
  },
  {
   "cell_type": "code",
   "execution_count": 42,
   "id": "464d9983",
   "metadata": {},
   "outputs": [],
   "source": [
    "# For Laplacian Approximation using FDM\n",
    "DX = (XMAX - XMIN) / NX  # Spatial step (m)\n",
    "DT = 0.001  # Time step (s)\n",
    "NT = 1200  "
   ]
  },
  {
   "cell_type": "markdown",
   "id": "e96b2cab",
   "metadata": {},
   "source": [
    "#### Shear Modulus\n",
    "Shear Modulus is used to measure how materials withstand deformation when a force is applied to the materials. The formula is\n",
    "$$\n",
    "\\mu = \\rho  v_s^2\n",
    "$$"
   ]
  },
  {
   "cell_type": "code",
   "execution_count": 43,
   "id": "8964626e",
   "metadata": {},
   "outputs": [],
   "source": [
    "VS = np.ones((NX, NY)) * 1500.0  # shear wave velocity\n",
    "RHO = np.ones((NX, NY)) * 2000.0  # Density\n",
    "MU = RHO * VS**2  # Shear modulus \n",
    "\n",
    "# Two-layer model example:\n",
    "# VS[NX//2:, :] = 2000.0  # Higher velocity layer\n",
    "# RHO[NX//2:, :] = 2500.0  # Higher density layer\n",
    "# MU = RHO * VS**2  # Recalculate shear modulus"
   ]
  },
  {
   "cell_type": "code",
   "execution_count": 44,
   "id": "71d312b4",
   "metadata": {},
   "outputs": [],
   "source": [
    "ux = np.zeros((NX, NY))  # x-component of displacement\n",
    "uy = np.zeros((NX, NY))  # y-component of displacement\n",
    "ux_prev = np.zeros((NX, NY))  # Previous time step\n",
    "uy_prev = np.zeros((NX, NY))  # Previous time step\n",
    "\n",
    "tau_xy = np.zeros((NX, NY)) # shear stress"
   ]
  },
  {
   "cell_type": "code",
   "execution_count": 45,
   "id": "dde06b93",
   "metadata": {},
   "outputs": [],
   "source": [
    "# Damping or Absorbing Boundary\n",
    "ABL_WIDTH = 20 #grid point on simulation area's edge for absorbing\n",
    "damping = np.ones((NX, NY)) \n",
    "\n",
    "# pressure on top and bottom get scaled down from 1.0 to 0.9\n",
    "damping[:ABL_WIDTH, :] = np.linspace(0.9, 1.0, ABL_WIDTH)[:, np.newaxis]\n",
    "damping[-ABL_WIDTH:, :] = np.linspace(1.0, 0.9, ABL_WIDTH)[:, np.newaxis]\n",
    "\n",
    "# preserve the strongest damping when overlapping in left and right edge\n",
    "damping[:, :ABL_WIDTH] = np.minimum(damping[:, :ABL_WIDTH], np.linspace(0.9, 1.0, ABL_WIDTH))\n",
    "damping[:, -ABL_WIDTH:] = np.minimum(damping[:, -ABL_WIDTH:], np.linspace(1.0, 0.9, ABL_WIDTH))"
   ]
  },
  {
   "cell_type": "markdown",
   "id": "0b5892b7",
   "metadata": {},
   "source": [
    "### Ricker Wavelet\n",
    "Ricker wavelet is the second derivative of a Gaussian function. It can mimic real seismic source, so we can conduct our numerical simulation based on it. The standard formula in the time domain is\n",
    "\n",
    "$$\n",
    "    A(t) = \\left( 1-2\\pi^2 f_0^2 t^2 \\right) e^{- \\pi^2 f_0^2 t^2}\n",
    "$$\n",
    "where\n",
    "- $f_0$ is the peak frequency in Hertz"
   ]
  },
  {
   "cell_type": "code",
   "execution_count": 46,
   "id": "2cd6813a",
   "metadata": {},
   "outputs": [],
   "source": [
    "# Seismic source (Ricker wavelet at center)\n",
    "def ricker_wavelet(t, f0=15.0):\n",
    "    return (1.0 - 2.0*(np.pi*f0*t)**2) * np.exp(-(np.pi*f0*t)**2)\n",
    "\n",
    "source_x, source_y = NX//4, NY//2  # Source position\n",
    "source_times = np.arange(NT) * DT # Time values\n",
    "\n",
    "# Pressure amplitude\n",
    "# The peak will occur on t which is source_times-0.1 or in\n",
    "# 0.1 seconds instead right at t=0, so that it is smoother\n",
    "source_amp = ricker_wavelet(source_times - 0.1, f0=15.0) * 1e6  "
   ]
  },
  {
   "cell_type": "markdown",
   "id": "bd35dbf7",
   "metadata": {},
   "source": [
    "#### Hooke Law \n",
    "Hooke Law is used for expressing the stress-strain relationship in the medium.\n",
    "$$\n",
    "\\tau_{xy} = \\mu \\left( \\frac{\\partial u_y}{\\partial x} + \\frac{\\partial u_x}{\\partial y} \\right)\n",
    "$$"
   ]
  },
  {
   "cell_type": "markdown",
   "id": "b1bbaa6c",
   "metadata": {},
   "source": [
    "### Discretization\n",
    "Now, based on Hooke's Law, we can compute the discretization of the partial derivatives using central differences FDM. \n",
    "\n",
    "$$\n",
    "\\frac{\\partial u_x}{\\partial y} \\approx \\frac{u_x^{i,j+1} - u_x^{i,j-1}}{2 \\nabla y}\n",
    "$$\n",
    "\n",
    "Using leapfrog scheme, the time stepping is\n",
    "$$\n",
    "u_x^{t+1} = 2u_x^t - u_x^{t-1} + \\frac{\\Delta t^2}{\\rho} \\left( \\frac{\\tau_{xy}^{i,j+1} - \\tau_{xy}^{i,j-1}}{2 \\Delta y} + S \\right)\n",
    "$$\n"
   ]
  },
  {
   "cell_type": "code",
   "execution_count": 47,
   "id": "f7057904",
   "metadata": {},
   "outputs": [],
   "source": [
    "def update_wave(n):\n",
    "    global ux, uy, ux_prev, uy_prev, tau_xy\n",
    "    \n",
    "    # Add source (vertical force)\n",
    "    if n < len(source_amp):\n",
    "        uy[source_x, source_y] += source_amp[n] * DT**2 / RHO[source_x, source_y]\n",
    "    \n",
    "    # Calculate spatial derivatives\n",
    "    dux_dx = np.zeros_like(ux)\n",
    "    dux_dy = np.zeros_like(ux)\n",
    "    duy_dx = np.zeros_like(uy)\n",
    "    duy_dy = np.zeros_like(uy)\n",
    "    \n",
    "    # Central differences for derivatives\n",
    "    dux_dx[1:-1, 1:-1] = (ux[2:, 1:-1] - ux[:-2, 1:-1]) / (2*DX)\n",
    "    dux_dy[1:-1, 1:-1] = (ux[1:-1, 2:] - ux[1:-1, :-2]) / (2*DX)\n",
    "    duy_dx[1:-1, 1:-1] = (uy[2:, 1:-1] - uy[:-2, 1:-1]) / (2*DX)\n",
    "    duy_dy[1:-1, 1:-1] = (uy[1:-1, 2:] - uy[1:-1, :-2]) / (2*DX)\n",
    "    \n",
    "    tau_xy_now = MU * (duy_dx + dux_dy)\n",
    "    tau_xy[:, :] = tau_xy_now\n",
    "    \n",
    "    ux_new = np.zeros_like(ux)\n",
    "    uy_new = np.zeros_like(uy)\n",
    "    \n",
    "    # x-component\n",
    "    ux_new[1:-1, 1:-1] = (\n",
    "        2*ux[1:-1, 1:-1] - ux_prev[1:-1, 1:-1] +\n",
    "        (DT**2 / RHO[1:-1, 1:-1]) * (\n",
    "            (tau_xy_now[1:-1, 2:] - tau_xy_now[1:-1, :-2]) / (2*DX)  # ∂τ_xy/∂y\n",
    "        )\n",
    "    )\n",
    "    \n",
    "    # y-component\n",
    "    uy_new[1:-1, 1:-1] = (\n",
    "        2*uy[1:-1, 1:-1] - uy_prev[1:-1, 1:-1] +\n",
    "        (DT**2 / RHO[1:-1, 1:-1]) * (\n",
    "            (tau_xy_now[2:, 1:-1] - tau_xy_now[:-2, 1:-1]) / (2*DX)  # ∂τ_xy/∂x\n",
    "        )\n",
    "    )\n",
    "    \n",
    "    ux_new *= damping\n",
    "    uy_new *= damping\n",
    "    \n",
    "    ux_prev = ux.copy()\n",
    "    uy_prev = uy.copy()\n",
    "    ux = ux_new.copy()\n",
    "    uy = uy_new.copy()"
   ]
  },
  {
   "cell_type": "code",
   "execution_count": null,
   "id": "dfed2593",
   "metadata": {},
   "outputs": [],
   "source": [
    "fig, (ax1, ax2) = plt.subplots(1, 2, figsize=(16, 6))\n",
    "\n",
    "# Horizontal displacement plot\n",
    "img1 = ax1.imshow(ux.T, extent=[XMIN, XMAX, YMAX, YMIN], \n",
    "                 cmap='seismic', vmin=-1e-6, vmax=1e-6)\n",
    "plt.colorbar(img1, ax=ax1, label='Horizontal Displacement (m)')\n",
    "ax1.set_title(\"Horizontal Displacement (SV-Wave)\")\n",
    "ax1.set_xlabel(\"Distance (m)\")\n",
    "ax1.set_ylabel(\"Depth (m)\")\n",
    "\n",
    "# Vertical displacement plot\n",
    "img2 = ax2.imshow(uy.T, extent=[XMIN, XMAX, YMAX, YMIN], \n",
    "                 cmap='seismic', vmin=-1e-6, vmax=1e-6)\n",
    "plt.colorbar(img2, ax=ax2, label='Vertical Displacement (m)')\n",
    "ax2.set_title(\"Vertical Displacement (SV-Wave)\")\n",
    "ax2.set_xlabel(\"Distance (m)\")\n",
    "ax2.set_ylabel(\"Depth (m)\")\n",
    "\n",
    "plt.show()"
   ]
  },
  {
   "cell_type": "code",
   "execution_count": null,
   "id": "4330cbb1",
   "metadata": {},
   "outputs": [],
   "source": [
    "def update(frame):\n",
    "    \"\"\"Update function for animation\"\"\"\n",
    "    for _ in range(PLOT_EVERY):\n",
    "        update_wave(frame * PLOT_EVERY + _)\n",
    "    \n",
    "    current_max = max(np.max(np.abs(ux)), np.max(np.abs(uy)))\n",
    "    vlimit = current_max if current_max > 0 else 1e-6\n",
    "    \n",
    "    img1.set_array(ux.T)\n",
    "    img1.set_clim(vmin=-vlimit, vmax=vlimit)\n",
    "    \n",
    "    img2.set_array(uy.T)\n",
    "    img2.set_clim(vmin=-vlimit, vmax=vlimit)\n",
    "    \n",
    "    return [img1, img2]"
   ]
  },
  {
   "cell_type": "code",
   "execution_count": null,
   "id": "b1f2e507",
   "metadata": {},
   "outputs": [],
   "source": [
    "ani = FuncAnimation(fig, update, frames=NT//PLOT_EVERY, \n",
    "                   interval=50, blit=True)\n",
    "plt.tight_layout()\n",
    "plt.show()"
   ]
  },
  {
   "cell_type": "code",
   "execution_count": null,
   "id": "d18b21cd",
   "metadata": {},
   "outputs": [],
   "source": [
    "ffmpeg_writer = animation.FFMpegWriter(fps=20)\n",
    "ani.save('test_s_wave1.mp4', writer=ffmpeg_writer)"
   ]
  },
  {
   "cell_type": "code",
   "execution_count": 54,
   "id": "2787b82c",
   "metadata": {},
   "outputs": [
    {
     "data": {
      "image/png": "[encoded data removed]",
      "text/plain": [
       "<Figure size 1000x800 with 2 Axes>"
      ]
     },
     "metadata": {},
     "output_type": "display_data"
    }
   ],
   "source": [
    "# plt.style.use('light_background')  # For better contrast\n",
    "# fig, ax = plt.subplots(figsize=(12, 8), dpi=100)\n",
    "# extent = [XMIN/1000, XMAX/1000, YMAX/1000, YMIN/1000]  # km units\n",
    "\n",
    "# # Improved Visualization Parameters\n",
    "# img = ax.imshow(tau_xy.T, extent=extent,\n",
    "#                cmap='seismic',\n",
    "#                vmin=-1e5, vmax=1e5,\n",
    "#                interpolation='bilinear',  # Smoother rendering\n",
    "#                aspect='auto')\n",
    "\n",
    "fig, ax = plt.subplots(figsize=(10, 8))\n",
    "img = ax.imshow(tau_xy.T, extent=[XMIN, XMAX, YMAX, YMIN], \n",
    "                cmap='seismic', vmin=-1e4, vmax=1e4)\n",
    "\n",
    "plt.colorbar(img, label='Shear Stress (Pa)', pad=0.01)\n",
    "ax.set_title(\"2D S-Wave Propagation (Shear Stress)\", pad=20)\n",
    "ax.set_xlabel(\"Distance (km)\")\n",
    "ax.set_ylabel(\"Depth (km)\")\n",
    "ax.grid(False)\n",
    "\n",
    "from scipy.ndimage import gaussian_filter\n",
    "\n",
    "\n",
    "def update_stress(frame):\n",
    "    \"\"\"Update function for animation\"\"\"\n",
    "    for _ in range(PLOT_EVERY):\n",
    "        update_wave(frame * PLOT_EVERY + _)\n",
    "    tau_smoothed = gaussian_filter(tau_xy, sigma=1.0)\n",
    "    img.set_array(tau_smoothed.T)\n",
    "    img.set_clim(-np.max(np.abs(tau_smoothed)), np.max(np.abs(tau_smoothed)))  # Auto-scale\n",
    "    return [img]"
   ]
  },
  {
   "cell_type": "code",
   "execution_count": 55,
   "id": "4ba04b9e",
   "metadata": {},
   "outputs": [
    {
     "data": {
      "text/plain": [
       "<Figure size 640x480 with 0 Axes>"
      ]
     },
     "metadata": {},
     "output_type": "display_data"
    }
   ],
   "source": [
    "ani_stress = FuncAnimation(fig, update_stress, frames=NT//PLOT_EVERY, \n",
    "                   interval=50, blit=True)\n",
    "plt.tight_layout()\n",
    "plt.show()"
   ]
  },
  {
   "cell_type": "code",
   "execution_count": 56,
   "id": "8469a027",
   "metadata": {},
   "outputs": [],
   "source": [
    "ffmpeg_writer = animation.FFMpegWriter(fps=20)\n",
    "ani_stress.save('test_s_wave_stress_2.mp4', writer=ffmpeg_writer)"
   ]
  },
  {
   "cell_type": "markdown",
   "id": "2dd18341",
   "metadata": {},
   "source": [
    "#### Seismic Moment\n",
    "Seismic moment $M_0$ is used to measure the size of an earthquake. Seismic moment can be analogued as how big the snap or the earthquake was. The formula of seismic moment is as below.\n",
    "$$\n",
    "M_0 = \\mu \\overline{u} S\n",
    "$$\n",
    "where\n",
    "- $\\mu$ is the shear modulus,\n",
    "- $\\overline{u}$ is the mean (over the area of the fracture) of the amount of displacement caused by the earthquake,\n",
    "- $S$ is the area of the fracture."
   ]
  },
  {
   "cell_type": "code",
   "execution_count": null,
   "id": "7cd99fcd",
   "metadata": {},
   "outputs": [],
   "source": [
    "# Rupture zone (ex: 10x10)\n",
    "rupture_radius = 5\n",
    "x_start, x_end = source_x - rupture_radius, source_x + rupture_radius\n",
    "y_start, y_end = source_y - rupture_radius, source_y + rupture_radius\n",
    "\n",
    "ux_rupture = ux[x_start:x_end, y_start:y_end] #x displacement in rupture zone\n",
    "uy_rupture = uy[x_start:x_end, y_start:y_end] #y displacement in rupture zone\n",
    "mu_rupture = MU[x_start:x_end, y_start:y_end] #mu in rupture zone\n",
    "\n",
    "# total movement/displacement per point\n",
    "u_magnitude = np.sqrt(ux_rupture**2 + uy_rupture**2)\n",
    "\n",
    "# Average displacement (\\overline{u})\n",
    "u_avg = np.mean(u_magnitude)\n",
    "\n",
    "# Average shear modulus (\\mu)\n",
    "mu_avg = np.mean(mu_rupture)\n",
    "\n",
    "# Fracture area in m² (S)\n",
    "# Each grid has physical size of DX, so the rupture area is a 10x10 square\n",
    "# with the total area = (10 * DX) * (10 * DX) with 10 = 2 * rupture radius\n",
    "S = ((2 * rupture_radius) * DX)**2  \n",
    "\n",
    "M0 = mu_avg * u_avg * S\n",
    "print(f\"Seismic moment: {M0:.2e} Nm\")"
   ]
  },
  {
   "cell_type": "markdown",
   "id": "682ec08a",
   "metadata": {},
   "source": [
    "#### Moment Magnitude and Energy Released\n",
    "The moment magnitude $M_w$ is a measure of energy released by an earthquake. In other words, it is a measurement scale of the power of the earthquake. The moment magnitude is the new standard taht works for all earthquake. The old standard is the Richter scale where it is babsed on ground motion measured by seismograph. The formula of $M_w$ is \n",
    "$$\n",
    "M_w = \\frac{2}{3} \\log{M_0} - 10.7 \n",
    "$$\n",
    "where $M_0$ is the seismic moment in dyne.cm.\n",
    "\n",
    "The approximation of the energy released can be calculated using the moment magnitude. The formula is as below.\n",
    "$$\n",
    "\\log{E} \\approx 5.24 + 1.44 M_w\n",
    "$$\n",
    "where $M_w$ is the moment magnitude. $M_w$ is dimensionless."
   ]
  },
  {
   "cell_type": "code",
   "execution_count": null,
   "id": "f4f05b4a",
   "metadata": {},
   "outputs": [],
   "source": [
    "# convert M0 to dyne.cm\n",
    "M0_dynecm = M0 * 10000000 \n",
    "\n",
    "# moment magnitude\n",
    "Mw = (2/3) * math.log(M0_dynecm) - 10.7\n",
    "print(f\"Moment magnitude scale: {Mw}\")\n",
    "\n",
    "# energy released\n",
    "E = 10**(5.24 + (1.44 * Mw))\n",
    "print(f\"Energy released: {E:.2e} J\")"
   ]
  }
 ],
 "metadata": {
  "kernelspec": {
   "display_name": "Python 3",
   "language": "python",
   "name": "python3"
  },
  "language_info": {
   "codemirror_mode": {
    "name": "ipython",
    "version": 3
   },
   "file_extension": ".py",
   "mimetype": "text/x-python",
   "name": "python",
   "nbconvert_exporter": "python",
   "pygments_lexer": "ipython3",
   "version": "3.11.5"
  }
 },
 "nbformat": 4,
 "nbformat_minor": 5
}
