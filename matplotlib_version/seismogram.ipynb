{
 "cells": [
  {
   "cell_type": "code",
   "execution_count": 1,
   "id": "4502833f",
   "metadata": {},
   "outputs": [],
   "source": [
    "from matplotlib import animation\n",
    "from matplotlib.animation import FuncAnimation\n",
    "import numpy as np\n",
    "import matplotlib.pyplot as plt"
   ]
  },
  {
   "cell_type": "code",
   "execution_count": 2,
   "id": "8442e342",
   "metadata": {},
   "outputs": [],
   "source": [
    "# --- Grid Parameters ---\n",
    "NX, NY = 200, 400\n",
    "XMIN, XMAX = 0.0, 2000.0\n",
    "YMIN, YMAX = 0.0, 4000.0\n",
    "DX = (XMAX - XMIN) / NX\n",
    "DY = (YMAX - YMIN) / NY\n",
    "DT = 0.001\n",
    "t_max = 4.0\n",
    "time = np.arange(0, t_max, DT)\n",
    "NT = len(time)\n",
    "\n",
    "# Animation config\n",
    "PLOT_EVERY = 5  # Plot every 5 time steps\n",
    "frames = len(time) // PLOT_EVERY\n",
    "\n",
    "# --- Velocity Model ---\n",
    "VEL_P = np.zeros((NX, NY))\n",
    "VEL_S = np.zeros((NX, NY))"
   ]
  },
  {
   "cell_type": "code",
   "execution_count": 3,
   "id": "49fce718",
   "metadata": {},
   "outputs": [],
   "source": [
    "# Define material layers: (start_y, end_y, Vp, Vs)\n",
    "# Use 0 for Vs in air/water instead of NaN values\n",
    "layers = [\n",
    "    (0, 60, 1200, 500),        # dry sands\n",
    "    (60, 120, 3800, 1900),     # ice\n",
    "    (120, 180, 1700, 500),    # Wet Sands\n",
    "    (180, 250, 2800, 1200),   # Sandstone\n",
    "    (250, 320, 4500, 2500),   # Limestone\n",
    "    (320, 400, 5500, 3000),   # Granite\n",
    "]\n",
    "\n",
    "for y_start, y_end, vp, vs in layers:\n",
    "    VEL_P[:, y_start:y_end] = vp\n",
    "    VEL_S[:, y_start:y_end] = vs\n",
    "\n",
    "RHO = np.ones((NX, NY)) * 2200.0"
   ]
  },
  {
   "cell_type": "code",
   "execution_count": 4,
   "id": "48f2f75f",
   "metadata": {},
   "outputs": [],
   "source": [
    "# Seismogram Profiles\n",
    "source_x = NX // 2\n",
    "vp_profile = VEL_P[source_x, :]\n",
    "vs_profile = VEL_S[source_x, :]\n",
    "rho_profile = RHO[source_x, :]"
   ]
  },
  {
   "cell_type": "markdown",
   "id": "da3af028",
   "metadata": {},
   "source": [
    "### Reflection Coefficient\n",
    "Reflection coefficient is a measure of how much of a wave reflection when it encounters a change in medium, such as between sands and stone. As we can see before, each medium has different P-wave velocity and S-wave velocity, which causes this wave reflection.\n",
    "\n",
    "$$\n",
    "    R = {(Z_2 - Z_1)/(Z_2 + Z_1)}\n",
    "$$\n",
    "where\n",
    "- $Z$ is the impedance which can be calculated using ${\\rho . v}$\n",
    "\n",
    "We will calculate the R coefficient separately for each wave.\n"
   ]
  },
  {
   "cell_type": "code",
   "execution_count": 5,
   "id": "c66dcf55",
   "metadata": {},
   "outputs": [],
   "source": [
    "def compute_reflection_coeffs(vel_profile, rho_profile):\n",
    "    rc = []\n",
    "    for i in range(len(vel_profile) - 1):\n",
    "        # Skip if either current or next layer has Vs=0 (air/water)\n",
    "        if vel_profile[i] == 0 or vel_profile[i+1] == 0:\n",
    "            rc.append(0)  # No reflection\n",
    "            continue\n",
    "            \n",
    "        z1 = rho_profile[i] * vel_profile[i]\n",
    "        z2 = rho_profile[i+1] * vel_profile[i+1]\n",
    "        r = (z2 - z1) / (z2 + z1)\n",
    "        rc.append(r)\n",
    "    return np.array(rc)\n",
    "\n",
    "rc_p = compute_reflection_coeffs(vp_profile, rho_profile)\n",
    "rc_s = compute_reflection_coeffs(vs_profile, rho_profile)"
   ]
  },
  {
   "cell_type": "markdown",
   "id": "935a1671",
   "metadata": {},
   "source": [
    "### Two-Way Travel Time (TWT)\n",
    "\n",
    "TWT is the total time needed for a seismic wave to travel from the reflector to the receiver.\n",
    "\n",
    "$$\n",
    "    TWT = {2 . (d_i/v_i)}\n",
    "$$\n",
    "where\n",
    "- $d_i$ is the thickness of layer i\n",
    "- $v_i$ is the wave velocity in layer i"
   ]
  },
  {
   "cell_type": "code",
   "execution_count": 6,
   "id": "a8b47101",
   "metadata": {},
   "outputs": [],
   "source": [
    "def compute_twt(vel_profile, dy):\n",
    "    twt = [0.0]\n",
    "    for i in range(1, len(vel_profile)):\n",
    "        if vel_profile[i] == 0:  # Skip S-wave in air/water\n",
    "            twt.append(np.inf)   # Infinite travel time (never arrives)\n",
    "            continue\n",
    "        avg_v = (vel_profile[i-1] + vel_profile[i]) / 2\n",
    "        dt_depth = 2 * dy / avg_v\n",
    "        twt.append(twt[-1] + dt_depth)\n",
    "    return np.array(twt)\n",
    "\n",
    "twt_p = compute_twt(vp_profile, DX)\n",
    "twt_s = compute_twt(vs_profile, DX)"
   ]
  },
  {
   "cell_type": "markdown",
   "id": "ea71b3ee",
   "metadata": {},
   "source": [
    "### Reflectivity Series\n",
    "\n",
    "Reflectivity series is a sequence of values that represents the reflection in different depth or locations. Each spike in the series symbolizes a reflection with its amplitude corresponds to Reflection Coefficient (R)."
   ]
  },
  {
   "cell_type": "code",
   "execution_count": 7,
   "id": "d6449cd5",
   "metadata": {},
   "outputs": [],
   "source": [
    "def create_reflectivity_series(rc, twt, time, dt):\n",
    "    series = np.zeros_like(time)\n",
    "    for i, t in enumerate(twt[:-1]):\n",
    "        if np.isinf(t):  # Skip if travel time is infinite\n",
    "            continue\n",
    "        idx = int(t / dt)\n",
    "        if 0 <= idx < len(series):\n",
    "            series[idx] = rc[i]\n",
    "    return series\n",
    "\n",
    "reflectivity_p = create_reflectivity_series(rc_p, twt_p, time, DT)\n",
    "reflectivity_s = create_reflectivity_series(rc_s, twt_s, time, DT)"
   ]
  },
  {
   "cell_type": "code",
   "execution_count": 8,
   "id": "e935ab4b",
   "metadata": {},
   "outputs": [],
   "source": [
    "# --- Ricker Wavelet ---    \n",
    "# Used to simulate the source wavelet\n",
    "def ricker_wavelet(t, f0=20.0):\n",
    "    return (1.0 - 2.0*(np.pi*f0*t)**2) * np.exp(-(np.pi*f0*t)**2)\n",
    "\n",
    "f0_p = 20.0\n",
    "f0_s = 15.0\n",
    "t_wavelet = np.linspace(-0.1, 0.1, int(0.2 / DT))\n",
    "wavelet_p = ricker_wavelet(t_wavelet, f0_p)\n",
    "wavelet_s = ricker_wavelet(t_wavelet, f0_s)"
   ]
  },
  {
   "cell_type": "markdown",
   "id": "0eb334ba",
   "metadata": {},
   "source": [
    "### Convolution \n",
    "\n",
    "Convolution is a mathematical operation to combine two functions and see the overlapped part. We will convolute the wavelet and reflectivity series to produce the seismogram.\n",
    "\n",
    "$$\n",
    "Seismogram = {wavelet * reflectivity\\space series}\n",
    "$$"
   ]
  },
  {
   "cell_type": "code",
   "execution_count": 9,
   "id": "360c73e2",
   "metadata": {},
   "outputs": [],
   "source": [
    "# --- Create Seismograms ---\n",
    "seismogram_p = np.convolve(reflectivity_p, wavelet_p, mode='same')\n",
    "seismogram_s = np.convolve(reflectivity_s, wavelet_s, mode='same')\n",
    "seismogram_s *= 1.5  # Amplify S-wave\n",
    "seismogram_s = np.roll(seismogram_s, int(0.2 / DT))  # Phase shift\n",
    "\n",
    "combined_seismogram = seismogram_p + seismogram_s"
   ]
  },
  {
   "cell_type": "code",
   "execution_count": 10,
   "id": "b5a3155b",
   "metadata": {},
   "outputs": [],
   "source": [
    "# --- Animation for seismogram with combined P and S wave ---\n",
    "# fig, ax = plt.subplots(figsize=(10, 4))\n",
    "# line, = ax.plot([], [], color='purple', label='Combined Seismogram')\n",
    "# ax.set_xlim(0, time[-1])\n",
    "# ax.set_ylim(np.min(combined_seismogram) * 1.1, np.max(combined_seismogram) * 1.1)\n",
    "# ax.set_xlabel('Time (s)')\n",
    "# ax.set_ylabel('Amplitude')\n",
    "# ax.set_title('Seismogram Animation (P + S)')\n",
    "# ax.grid(True)\n",
    "# ax.legend()\n",
    "\n",
    "# def init():\n",
    "#     line.set_data([], [])\n",
    "#     return line,\n",
    "\n",
    "# def update(frame):\n",
    "#     idx = min(frame * PLOT_EVERY, len(time) - 1)  # Ensure we don't exceed array bounds\n",
    "#     line.set_data(time[:idx], combined_seismogram[:idx])\n",
    "#     return line,"
   ]
  },
  {
   "cell_type": "code",
   "execution_count": 11,
   "id": "da0287fc",
   "metadata": {},
   "outputs": [
    {
     "data": {
      "image/png": "[encoded data removed]",
      "text/plain": [
       "<Figure size 1000x400 with 1 Axes>"
      ]
     },
     "metadata": {},
     "output_type": "display_data"
    }
   ],
   "source": [
    "# --- Animation for seismogram with separated P and S wave ---\n",
    "fig, ax = plt.subplots(figsize=(10, 4))\n",
    "line_p, = ax.plot([], [], color='blue', label='P-wave')\n",
    "line_s, = ax.plot([], [], color='red', label='S-wave', linestyle='--')\n",
    "\n",
    "ax.set_xlim(0, time[-1])\n",
    "min_val = min(seismogram_p.min(), seismogram_s.min()) * 1.1\n",
    "max_val = max(seismogram_p.max(), seismogram_s.max()) * 1.1\n",
    "ax.set_ylim(min_val, max_val)\n",
    "\n",
    "ax.set_xlabel('Time (s)')\n",
    "ax.set_ylabel('Amplitude')\n",
    "ax.set_title('Seismogram Animation (P-wave and S-wave)')\n",
    "ax.grid(True)\n",
    "ax.legend(loc='lower left')\n",
    "\n",
    "def init():\n",
    "    line_p.set_data([], [])\n",
    "    line_s.set_data([], [])\n",
    "    return line_p, line_s\n",
    "\n",
    "def update(frame):\n",
    "    idx = min(frame * PLOT_EVERY, len(time) - 1)\n",
    "    line_p.set_data(time[:idx], seismogram_p[:idx])\n",
    "    line_s.set_data(time[:idx], seismogram_s[:idx])\n",
    "    return line_p, line_s"
   ]
  },
  {
   "cell_type": "code",
   "execution_count": 12,
   "id": "9ccf508a",
   "metadata": {},
   "outputs": [],
   "source": [
    "ani = FuncAnimation(fig, update, frames=frames, init_func=init, interval=20, blit=True)\n",
    "ffmpeg_writer = animation.FFMpegWriter(fps=20)\n",
    "ani.save('separated_seismogram.mp4', writer=ffmpeg_writer)"
   ]
  }
 ],
 "metadata": {
  "kernelspec": {
   "display_name": "Python 3",
   "language": "python",
   "name": "python3"
  },
  "language_info": {
   "codemirror_mode": {
    "name": "ipython",
    "version": 3
   },
   "file_extension": ".py",
   "mimetype": "text/x-python",
   "name": "python",
   "nbconvert_exporter": "python",
   "pygments_lexer": "ipython3",
   "version": "3.11.5"
  }
 },
 "nbformat": 4,
 "nbformat_minor": 5
}
